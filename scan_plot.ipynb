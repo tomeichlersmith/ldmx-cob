{
 "cells": [
  {
   "cell_type": "markdown",
   "id": "4ad66968",
   "metadata": {},
   "source": [
    "# Plot Decoded HGC ROC Data\n",
    "Launching this jupyter notebook from cmslab1 and making it accessible to your local computer can be done with the help of `ssh`. Essentially, you need to connect a \"port\" across the ssh connection between your computer and cmslab1 and then you need to tell jupyter notebook to make the interactive-side of the notebook available on that port.\n",
    "\n",
    "### Outline of Setup Commands\n",
    "Summarized from [a blog post](https://medium.com/@apbetahouse45/how-to-run-jupyter-notebooks-on-remote-server-part-1-ssh-a2be0232c533).\n",
    "1. Connect to cmslab1 with a specific port number: `ssh cmslab1 -NL 1234:localhost:1234`\n",
    "2. Launch the jupyter notebook with the same port number (assuming already in directory): `jupyter notebook --no-browser --port 1234`\n",
    "3. Open one of the links provided in your browser on your computer.\n",
    "\n",
    "### First Time Operation\n",
    "This jupyter notebook requires some dependencies available on cmslab1 so that it can run.\n",
    "Before attempting to connect for the first time, you will need to install these python packages _on cmslab1_.\n",
    "```\n",
    "python3 -m pip install --user --upgrade uproot pandas notebook\n",
    "```"
   ]
  },
  {
   "cell_type": "code",
   "execution_count": 1,
   "id": "aea348c7",
   "metadata": {},
   "outputs": [],
   "source": [
    "import pandas as pd\n",
    "import uproot\n",
    "import matplotlib.pyplot as plt"
   ]
  },
  {
   "cell_type": "code",
   "execution_count": 5,
   "id": "74bbfc2f",
   "metadata": {},
   "outputs": [],
   "source": [
    "with uproot.open('~/ldmx/adc_lund_8ts.root:ntuplizehgcroc/hgcroc') as t :\n",
    "    df = t.arrays(library='pd')"
   ]
  },
  {
   "cell_type": "code",
   "execution_count": 9,
   "id": "32776783",
   "metadata": {},
   "outputs": [
    {
     "data": {
      "image/png": "[encoded data removed]",
      "text/plain": [
       "<Figure size 432x288 with 1 Axes>"
      ]
     },
     "metadata": {
      "needs_background": "light"
     },
     "output_type": "display_data"
    }
   ],
   "source": [
    "plt.hist(df['adc'],histtype='step')\n",
    "plt.show()"
   ]
  },
  {
   "cell_type": "code",
   "execution_count": null,
   "id": "fbdf770d",
   "metadata": {},
   "outputs": [],
   "source": []
  }
 ],
 "metadata": {
  "kernelspec": {
   "display_name": "Python 3",
   "language": "python",
   "name": "python3"
  },
  "language_info": {
   "codemirror_mode": {
    "name": "ipython",
    "version": 3
   },
   "file_extension": ".py",
   "mimetype": "text/x-python",
   "name": "python",
   "nbconvert_exporter": "python",
   "pygments_lexer": "ipython3",
   "version": "3.6.8"
  }
 },
 "nbformat": 4,
 "nbformat_minor": 5
}
