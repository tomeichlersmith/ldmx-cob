{
 "cells": [
  {
   "cell_type": "markdown",
   "id": "4ad66968",
   "metadata": {},
   "source": [
    "# Plot Decoded HGC ROC Data\n",
    "Launching this jupyter notebook from cmslab1 and making it accessible to your local computer can be done with the help of `ssh`. Essentially, you need to connect a \"port\" across the ssh connection between your computer and cmslab1 and then you need to tell jupyter notebook to make the interactive-side of the notebook available on that port.\n",
    "\n",
    "### Outline of Setup Commands\n",
    "Summarized from [a blog post](https://medium.com/@apbetahouse45/how-to-run-jupyter-notebooks-on-remote-server-part-1-ssh-a2be0232c533).\n",
    "1. Connect to cmslab1 with a specific port number (run from your laptop): `ssh -L 1234:localhost:1234 cmslab1`\n",
    "2. Launch the jupyter notebook with the same port number (on cmslab1, assuming already in `ldmx-cob` directory): `jupyter notebook --no-browser --port 1234`\n",
    "3. Open one of the links provided in your browser on your computer. On my computer (Ubuntu 20.04), you can do this by holding down `Shift` and then right-clicking on the link and selecting `Open link`. You could also hold down `Shift` to highlight the link and the use `Ctrl+Shift+C` to copy the link and then paste it into your browser.\n",
    "\n",
    "#### Tip\n",
    "You can avoid having to type the `-L` part every time by adding the `LocalForward 1234 localhost:1234` to your ssh config file.\n",
    "```\n",
    "# example ~/.ssh/config\n",
    "Host cmslab1 :\n",
    "  User <umn-username>\n",
    "  HostName cmslab1.spa.umn.edu\n",
    "  LocalForward 1234 localhost:1234\n",
    "```\n",
    "\n",
    "### First Time Operation\n",
    "This jupyter notebook requires some dependencies available on cmslab1 so that it can run.\n",
    "Before attempting to connect for the first time, you will need to install these python packages _on cmslab1_.\n",
    "```\n",
    "python3 -m pip install --user --upgrade wheel uproot pandas notebook\n",
    "```"
   ]
  },
  {
   "cell_type": "code",
   "execution_count": 2,
   "id": "aea348c7",
   "metadata": {},
   "outputs": [],
   "source": [
    "import pandas as pd\n",
    "import uproot\n",
    "import matplotlib.pyplot as plt"
   ]
  },
  {
   "cell_type": "code",
   "execution_count": 13,
   "id": "2e2b81fa",
   "metadata": {},
   "outputs": [
    {
     "data": {
      "text/plain": [
       "['ldmx-sw',\n",
       " '.singularity',\n",
       " 'ldmx_dev_latest.sif',\n",
       " 'cob',\n",
       " 'ldmx-env.sh',\n",
       " 'pflib',\n",
       " 'tb-online',\n",
       " 'lund_8ts.raw',\n",
       " 'HGCROCSketches',\n",
       " 'run000011_20220330_115440.raw',\n",
       " 'charge_20220330_155700.raw',\n",
       " 'adc_pedestal_20220330_155651.root',\n",
       " 'adc_charge_20220330_155700.root',\n",
       " 'adc_pedestal_20220330_145338.root',\n",
       " 'adc_pedestal_dma.root',\n",
       " 'pedestal_dma_exitpause.raw',\n",
       " 'adc_pedestal_dma_exitpause.root',\n",
       " 'unpacked_pedestal_dma_exitpause.root',\n",
       " 'adc_pedestal_nondma.root',\n",
       " 'pedestal_20220330_155651.raw',\n",
       " 'unpacked_pedestal_20220330_155651.root',\n",
       " 'unpacked_charge_20220330_155700.root']"
      ]
     },
     "execution_count": 13,
     "metadata": {},
     "output_type": "execute_result"
    }
   ],
   "source": [
    "import os\n",
    "os.listdir('/home/eichl008/ldmx')"
   ]
  },
  {
   "cell_type": "code",
   "execution_count": 18,
   "id": "74bbfc2f",
   "metadata": {},
   "outputs": [],
   "source": [
    "# since the notebook is running on cmslab1, you can access the files there\n",
    "with uproot.open('~/ldmx/adc_charge_20220330_155700.root:ntuplizehgcroc/hgcroc') as t :\n",
    "    df = t.arrays(library='pd')"
   ]
  },
  {
   "cell_type": "code",
   "execution_count": 19,
   "id": "daa76dff",
   "metadata": {},
   "outputs": [
    {
     "data": {
      "text/html": [
       "<div>\n",
       "<style scoped>\n",
       "    .dataframe tbody tr th:only-of-type {\n",
       "        vertical-align: middle;\n",
       "    }\n",
       "\n",
       "    .dataframe tbody tr th {\n",
       "        vertical-align: top;\n",
       "    }\n",
       "\n",
       "    .dataframe thead th {\n",
       "        text-align: right;\n",
       "    }\n",
       "</style>\n",
       "<table border=\"1\" class=\"dataframe\">\n",
       "  <thead>\n",
       "    <tr style=\"text-align: right;\">\n",
       "      <th></th>\n",
       "      <th>raw_id</th>\n",
       "      <th>adc</th>\n",
       "      <th>tot</th>\n",
       "      <th>toa</th>\n",
       "      <th>raw_adc</th>\n",
       "      <th>i_sample</th>\n",
       "      <th>event</th>\n",
       "      <th>tot_prog</th>\n",
       "      <th>tot_comp</th>\n",
       "      <th>fpga</th>\n",
       "      <th>link</th>\n",
       "      <th>channel</th>\n",
       "      <th>index</th>\n",
       "    </tr>\n",
       "  </thead>\n",
       "  <tbody>\n",
       "    <tr>\n",
       "      <th>0</th>\n",
       "      <td>1275077536</td>\n",
       "      <td>0</td>\n",
       "      <td>94</td>\n",
       "      <td>0</td>\n",
       "      <td>0</td>\n",
       "      <td>0</td>\n",
       "      <td>1</td>\n",
       "      <td>False</td>\n",
       "      <td>False</td>\n",
       "      <td>5</td>\n",
       "      <td>0</td>\n",
       "      <td>1</td>\n",
       "      <td>9120</td>\n",
       "    </tr>\n",
       "    <tr>\n",
       "      <th>1</th>\n",
       "      <td>1275077536</td>\n",
       "      <td>0</td>\n",
       "      <td>126</td>\n",
       "      <td>0</td>\n",
       "      <td>0</td>\n",
       "      <td>1</td>\n",
       "      <td>1</td>\n",
       "      <td>False</td>\n",
       "      <td>False</td>\n",
       "      <td>5</td>\n",
       "      <td>0</td>\n",
       "      <td>1</td>\n",
       "      <td>9120</td>\n",
       "    </tr>\n",
       "    <tr>\n",
       "      <th>2</th>\n",
       "      <td>1275077536</td>\n",
       "      <td>0</td>\n",
       "      <td>124</td>\n",
       "      <td>0</td>\n",
       "      <td>0</td>\n",
       "      <td>2</td>\n",
       "      <td>1</td>\n",
       "      <td>False</td>\n",
       "      <td>False</td>\n",
       "      <td>5</td>\n",
       "      <td>0</td>\n",
       "      <td>1</td>\n",
       "      <td>9120</td>\n",
       "    </tr>\n",
       "    <tr>\n",
       "      <th>3</th>\n",
       "      <td>1275077536</td>\n",
       "      <td>0</td>\n",
       "      <td>126</td>\n",
       "      <td>0</td>\n",
       "      <td>0</td>\n",
       "      <td>3</td>\n",
       "      <td>1</td>\n",
       "      <td>False</td>\n",
       "      <td>False</td>\n",
       "      <td>5</td>\n",
       "      <td>0</td>\n",
       "      <td>1</td>\n",
       "      <td>9120</td>\n",
       "    </tr>\n",
       "    <tr>\n",
       "      <th>4</th>\n",
       "      <td>1275077536</td>\n",
       "      <td>0</td>\n",
       "      <td>126</td>\n",
       "      <td>0</td>\n",
       "      <td>0</td>\n",
       "      <td>4</td>\n",
       "      <td>1</td>\n",
       "      <td>False</td>\n",
       "      <td>False</td>\n",
       "      <td>5</td>\n",
       "      <td>0</td>\n",
       "      <td>1</td>\n",
       "      <td>9120</td>\n",
       "    </tr>\n",
       "    <tr>\n",
       "      <th>...</th>\n",
       "      <td>...</td>\n",
       "      <td>...</td>\n",
       "      <td>...</td>\n",
       "      <td>...</td>\n",
       "      <td>...</td>\n",
       "      <td>...</td>\n",
       "      <td>...</td>\n",
       "      <td>...</td>\n",
       "      <td>...</td>\n",
       "      <td>...</td>\n",
       "      <td>...</td>\n",
       "      <td>...</td>\n",
       "      <td>...</td>\n",
       "    </tr>\n",
       "    <tr>\n",
       "      <th>44395</th>\n",
       "      <td>1275077610</td>\n",
       "      <td>80</td>\n",
       "      <td>0</td>\n",
       "      <td>448</td>\n",
       "      <td>80</td>\n",
       "      <td>1</td>\n",
       "      <td>100</td>\n",
       "      <td>False</td>\n",
       "      <td>False</td>\n",
       "      <td>5</td>\n",
       "      <td>1</td>\n",
       "      <td>37</td>\n",
       "      <td>9194</td>\n",
       "    </tr>\n",
       "    <tr>\n",
       "      <th>44396</th>\n",
       "      <td>1275077610</td>\n",
       "      <td>80</td>\n",
       "      <td>0</td>\n",
       "      <td>192</td>\n",
       "      <td>80</td>\n",
       "      <td>2</td>\n",
       "      <td>100</td>\n",
       "      <td>False</td>\n",
       "      <td>False</td>\n",
       "      <td>5</td>\n",
       "      <td>1</td>\n",
       "      <td>37</td>\n",
       "      <td>9194</td>\n",
       "    </tr>\n",
       "    <tr>\n",
       "      <th>44397</th>\n",
       "      <td>1275077610</td>\n",
       "      <td>80</td>\n",
       "      <td>0</td>\n",
       "      <td>448</td>\n",
       "      <td>80</td>\n",
       "      <td>3</td>\n",
       "      <td>100</td>\n",
       "      <td>False</td>\n",
       "      <td>False</td>\n",
       "      <td>5</td>\n",
       "      <td>1</td>\n",
       "      <td>37</td>\n",
       "      <td>9194</td>\n",
       "    </tr>\n",
       "    <tr>\n",
       "      <th>44398</th>\n",
       "      <td>1275077610</td>\n",
       "      <td>80</td>\n",
       "      <td>0</td>\n",
       "      <td>320</td>\n",
       "      <td>80</td>\n",
       "      <td>4</td>\n",
       "      <td>100</td>\n",
       "      <td>False</td>\n",
       "      <td>False</td>\n",
       "      <td>5</td>\n",
       "      <td>1</td>\n",
       "      <td>37</td>\n",
       "      <td>9194</td>\n",
       "    </tr>\n",
       "    <tr>\n",
       "      <th>44399</th>\n",
       "      <td>1275077610</td>\n",
       "      <td>240</td>\n",
       "      <td>0</td>\n",
       "      <td>320</td>\n",
       "      <td>240</td>\n",
       "      <td>5</td>\n",
       "      <td>100</td>\n",
       "      <td>False</td>\n",
       "      <td>False</td>\n",
       "      <td>5</td>\n",
       "      <td>1</td>\n",
       "      <td>37</td>\n",
       "      <td>9194</td>\n",
       "    </tr>\n",
       "  </tbody>\n",
       "</table>\n",
       "<p>44400 rows × 13 columns</p>\n",
       "</div>"
      ],
      "text/plain": [
       "           raw_id  adc  tot  toa  raw_adc  i_sample  event  tot_prog  \\\n",
       "0      1275077536    0   94    0        0         0      1     False   \n",
       "1      1275077536    0  126    0        0         1      1     False   \n",
       "2      1275077536    0  124    0        0         2      1     False   \n",
       "3      1275077536    0  126    0        0         3      1     False   \n",
       "4      1275077536    0  126    0        0         4      1     False   \n",
       "...           ...  ...  ...  ...      ...       ...    ...       ...   \n",
       "44395  1275077610   80    0  448       80         1    100     False   \n",
       "44396  1275077610   80    0  192       80         2    100     False   \n",
       "44397  1275077610   80    0  448       80         3    100     False   \n",
       "44398  1275077610   80    0  320       80         4    100     False   \n",
       "44399  1275077610  240    0  320      240         5    100     False   \n",
       "\n",
       "       tot_comp  fpga  link  channel  index  \n",
       "0         False     5     0        1   9120  \n",
       "1         False     5     0        1   9120  \n",
       "2         False     5     0        1   9120  \n",
       "3         False     5     0        1   9120  \n",
       "4         False     5     0        1   9120  \n",
       "...         ...   ...   ...      ...    ...  \n",
       "44395     False     5     1       37   9194  \n",
       "44396     False     5     1       37   9194  \n",
       "44397     False     5     1       37   9194  \n",
       "44398     False     5     1       37   9194  \n",
       "44399     False     5     1       37   9194  \n",
       "\n",
       "[44400 rows x 13 columns]"
      ]
     },
     "execution_count": 19,
     "metadata": {},
     "output_type": "execute_result"
    }
   ],
   "source": [
    "df"
   ]
  },
  {
   "cell_type": "code",
   "execution_count": 23,
   "id": "3c92905f",
   "metadata": {},
   "outputs": [
    {
     "data": {
      "image/png": "[encoded data removed]",
      "text/plain": [
       "<Figure size 432x288 with 1 Axes>"
      ]
     },
     "metadata": {
      "needs_background": "light"
     },
     "output_type": "display_data"
    }
   ],
   "source": [
    "selections = {\n",
    "    f'PV = {pv}' : (df['event']>i*10)&(df['event']<=(i+1)*10) for i, pv in enumerate(range(1,6,1))\n",
    "}\n",
    "\n",
    "for name, sl in selections.items() :\n",
    "    plt.hist(df[sl]['adc'],range=[0,256],bins=128,label=name)\n",
    "plt.legend()\n",
    "plt.show()"
   ]
  },
  {
   "cell_type": "code",
   "execution_count": 18,
   "id": "05109121",
   "metadata": {},
   "outputs": [
    {
     "data": {
      "image/png": "[encoded data removed]",
      "text/plain": [
       "<Figure size 432x288 with 1 Axes>"
      ]
     },
     "metadata": {
      "needs_background": "light"
     },
     "output_type": "display_data"
    }
   ],
   "source": [
    "plt.hist2d(df['i_sample'],df['adc'],range=[[0,7],[0,256]],bins=[8,128])\n",
    "plt.show()"
   ]
  },
  {
   "cell_type": "code",
   "execution_count": 17,
   "id": "32776783",
   "metadata": {},
   "outputs": [
    {
     "data": {
      "image/png": "[encoded data removed]",
      "text/plain": [
       "<Figure size 432x288 with 1 Axes>"
      ]
     },
     "metadata": {
      "needs_background": "light"
     },
     "output_type": "display_data"
    }
   ],
   "source": [
    "n_channels = len(df['index'].unique())\n",
    "plt.hist2d(df['index'],df['adc'],bins=[n_channels,128],range=[[0,n_channels-1],[0,127]],cmin=1)\n",
    "plt.show()"
   ]
  },
  {
   "cell_type": "code",
   "execution_count": null,
   "id": "fbdf770d",
   "metadata": {},
   "outputs": [],
   "source": []
  }
 ],
 "metadata": {
  "kernelspec": {
   "display_name": "Python 3",
   "language": "python",
   "name": "python3"
  },
  "language_info": {
   "codemirror_mode": {
    "name": "ipython",
    "version": 3
   },
   "file_extension": ".py",
   "mimetype": "text/x-python",
   "name": "python",
   "nbconvert_exporter": "python",
   "pygments_lexer": "ipython3",
   "version": "3.6.8"
  }
 },
 "nbformat": 4,
 "nbformat_minor": 5
}
